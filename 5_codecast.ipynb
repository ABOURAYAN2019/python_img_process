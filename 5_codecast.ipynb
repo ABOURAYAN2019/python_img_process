{
 "cells": [
  {
   "cell_type": "markdown",
   "metadata": {
    "graffitiCellId": "id_ozjnshd"
   },
   "source": [
    "# Codecast: chargement d'une image\n",
    " \n",
    "Ce premier codecast permet de s'initier au chargement, la manipulation et la visualisation des images. Dans un premier temps, une image est chargée. Nous allons afficher le type des données, ainsi que la définition de l'image.\n",
    "\n",
    "## Objectifs\n",
    "\n",
    "Après ce premier notebook, vous saurez:\n",
    "\n",
    "* Charger et visualiser une image à niveaux de gris et une image en couleurs.\n",
    "* Afficher la taille de l'image en pixels, ainsi que le type des données\n",
    "* Afficher les différents canaux de couleurs séparément.\n",
    "\n",
    "\n",
    "\n",
    "<span class=\"graffiti-highlight graffiti-id_ozjnshd-id_etaxe89\"><i></i><button>Démarrer</button></span>"
   ]
  },
  {
   "cell_type": "code",
   "execution_count": null,
   "metadata": {
    "graffitiCellId": "id_nlmz4fb"
   },
   "outputs": [],
   "source": [
    "import skimage\n",
    "import matplotlib.pyplot as plt"
   ]
  },
  {
   "cell_type": "code",
   "execution_count": null,
   "metadata": {
    "graffitiCellId": "id_s4jlqle"
   },
   "outputs": [],
   "source": [
    "I = skimage.data.camera()"
   ]
  },
  {
   "cell_type": "code",
   "execution_count": null,
   "metadata": {
    "graffitiCellId": "id_bloz8x0"
   },
   "outputs": [],
   "source": [
    "print(I)"
   ]
  },
  {
   "cell_type": "code",
   "execution_count": null,
   "metadata": {
    "graffitiCellId": "id_kmul2d9"
   },
   "outputs": [],
   "source": [
    "print(I.shape)"
   ]
  },
  {
   "cell_type": "code",
   "execution_count": null,
   "metadata": {
    "graffitiCellId": "id_1gx6t4j"
   },
   "outputs": [],
   "source": [
    "plt.imshow(I)\n",
    "plt.show()"
   ]
  },
  {
   "cell_type": "code",
   "execution_count": null,
   "metadata": {
    "graffitiCellId": "id_zod7hb6"
   },
   "outputs": [],
   "source": [
    "plt.imshow(I, 'gray')\n",
    "plt.show()"
   ]
  },
  {
   "cell_type": "code",
   "execution_count": null,
   "metadata": {
    "graffitiCellId": "id_9c83yc3"
   },
   "outputs": [],
   "source": [
    "cat = skimage.data.chelsea()"
   ]
  },
  {
   "cell_type": "code",
   "execution_count": null,
   "metadata": {
    "graffitiCellId": "id_0g0laqa"
   },
   "outputs": [],
   "source": [
    "print(cat.shape)"
   ]
  },
  {
   "cell_type": "code",
   "execution_count": null,
   "metadata": {
    "graffitiCellId": "id_yzc3dbs"
   },
   "outputs": [],
   "source": [
    "print(cat.dtype)"
   ]
  },
  {
   "cell_type": "code",
   "execution_count": null,
   "metadata": {
    "graffitiCellId": "id_au4e1zc"
   },
   "outputs": [],
   "source": [
    "plt.imshow(cat)\n",
    "plt.show()"
   ]
  },
  {
   "cell_type": "code",
   "execution_count": null,
   "metadata": {
    "graffitiCellId": "id_vzmvd2p"
   },
   "outputs": [],
   "source": [
    "for c in range(3):\n",
    "    plt.imshow(cat[:,:,c], 'gray')\n",
    "    plt.show()"
   ]
  },
  {
   "cell_type": "code",
   "execution_count": null,
   "metadata": {
    "graffitiCellId": "id_5rhgjip"
   },
   "outputs": [],
   "source": [
    "I = skimage.io.imread('test.jpg')"
   ]
  }
 ],
 "metadata": {
  "graffiti": {
   "firstAuthorId": "dev",
   "id": "id_sboflaz",
   "language": "EN"
  },
  "kernelspec": {
   "display_name": "Python 3",
   "language": "python",
   "name": "python3"
  },
  "language_info": {
   "codemirror_mode": {
    "name": "ipython",
    "version": 3
   },
   "file_extension": ".py",
   "mimetype": "text/x-python",
   "name": "python",
   "nbconvert_exporter": "python",
   "pygments_lexer": "ipython3",
   "version": "3.8.6"
  },
  "latex_envs": {
   "LaTeX_envs_menu_present": true,
   "autoclose": false,
   "autocomplete": true,
   "bibliofile": "biblio.bib",
   "cite_by": "apalike",
   "current_citInitial": 1,
   "eqLabelWithNumbers": true,
   "eqNumInitial": 1,
   "hotkeys": {
    "equation": "Ctrl-E",
    "itemize": "Ctrl-I"
   },
   "labels_anchors": false,
   "latex_user_defs": false,
   "report_style_numbering": false,
   "user_envs_cfg": false
  },
  "toc": {
   "base_numbering": 1,
   "nav_menu": {},
   "number_sections": true,
   "sideBar": true,
   "skip_h1_title": false,
   "title_cell": "Table of Contents",
   "title_sidebar": "Contents",
   "toc_cell": false,
   "toc_position": {},
   "toc_section_display": true,
   "toc_window_display": false
  }
 },
 "nbformat": 4,
 "nbformat_minor": 2
}
